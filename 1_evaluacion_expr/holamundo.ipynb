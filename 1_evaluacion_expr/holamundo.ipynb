{
 "cells": [
  {
   "cell_type": "markdown",
   "id": "711b831f",
   "metadata": {},
   "source": [
    "# Ejercicio 1\n",
    "Ejercicio 1 de evaluacion de expresiones en Python\n",
    "\n",
    "$ \\frac{\\pi ^ 2}{6} = \\sum_{n=1}^{\\infty} \\frac{1}{n ^ 2} $\n"
   ]
  },
  {
   "cell_type": "code",
   "execution_count": 11,
   "id": "204b5756",
   "metadata": {},
   "outputs": [
    {
     "name": "stdout",
     "output_type": "stream",
     "text": [
      "Valore teorico: 1.6449340668482264, Aporoximacion: 1.5397677311665408\n",
      "Error: 0.10516633568168565\n"
     ]
    }
   ],
   "source": [
    "import math\n",
    "res = math.pi**2/6\n",
    "res2=0\n",
    "for n in range(1,10):\n",
    "    res2+=1/(n**2)\n",
    "\n",
    "print(f\"Valore teorico: {res}, Aporoximacion: {res2}\")\n",
    "error= abs(res-res2)\n",
    "print(f\"Error: {error}\")"
   ]
  }
 ],
 "metadata": {
  "kernelspec": {
   "display_name": "Python 3",
   "language": "python",
   "name": "python3"
  },
  "language_info": {
   "codemirror_mode": {
    "name": "ipython",
    "version": 3
   },
   "file_extension": ".py",
   "mimetype": "text/x-python",
   "name": "python",
   "nbconvert_exporter": "python",
   "pygments_lexer": "ipython3",
   "version": "3.11.4"
  }
 },
 "nbformat": 4,
 "nbformat_minor": 5
}
