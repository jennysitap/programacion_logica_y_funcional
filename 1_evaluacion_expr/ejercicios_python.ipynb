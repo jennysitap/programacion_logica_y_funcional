{
 "cells": [
  {
   "cell_type": "markdown",
   "metadata": {},
   "source": [
    "# Ejercicio #1 Evaluacion de expresiones en Python "
   ]
  },
  {
   "cell_type": "markdown",
   "metadata": {},
   "source": [
    "Instrucciones: Analice las siguientes expresiones, anote las reducciones en un cuadernillo de Jupyter y compruebe el resultado en lenguaje python."
   ]
  },
  {
   "cell_type": "markdown",
   "metadata": {},
   "source": [
    "### Expresion 1:\n",
    "expr1 = (3 + 2) * 4\n",
    "- Calcule lo que esta dentro del parentesis primero (3 + 2) = 5\n",
    "- Multiplique ese resultado *4, es decir, 5 * 4 = 20\n",
    "- Resultado final expr1= 20"
   ]
  },
  {
   "cell_type": "code",
   "execution_count": 1,
   "metadata": {},
   "outputs": [
    {
     "name": "stdout",
     "output_type": "stream",
     "text": [
      "20\n"
     ]
    }
   ],
   "source": [
    "expr1 = (3 + 2) * 4\n",
    "print(expr1)"
   ]
  },
  {
   "cell_type": "markdown",
   "metadata": {},
   "source": [
    "### Expresion 2:\n",
    "expr2 = 2 * 3 ** 2\n",
    "- Calcule primero la potencia, 3 ** 2 = 9\n",
    "- Multiplique ese resultado *2, es decir, 9 * 2 = 18\n",
    "- Resultado final expr2= 18"
   ]
  },
  {
   "cell_type": "code",
   "execution_count": 1,
   "metadata": {},
   "outputs": [
    {
     "name": "stdout",
     "output_type": "stream",
     "text": [
      "18\n"
     ]
    }
   ],
   "source": [
    "expr2 = 2 * 3 ** 2\n",
    "print(expr2)"
   ]
  },
  {
   "cell_type": "markdown",
   "metadata": {},
   "source": [
    "### Expresion 3:\n",
    "expr3 = 10 // 3 + 2\n",
    "- Calcule la division entera 10 // 3 = 3\n",
    "- Sume ese resultado +2, es decir, 3 + 2 = 5\n",
    "- Resultado final expr3= 5"
   ]
  },
  {
   "cell_type": "code",
   "execution_count": 2,
   "metadata": {},
   "outputs": [
    {
     "name": "stdout",
     "output_type": "stream",
     "text": [
      "5\n"
     ]
    }
   ],
   "source": [
    "expr3 = 10 // 3 + 2\n",
    "print(expr3)"
   ]
  },
  {
   "cell_type": "markdown",
   "metadata": {},
   "source": [
    "### Expresion 4:\n",
    "expr4 = 17 % 5 * 2\n",
    "- Calcule 17 % 5 = 2\n",
    "- Multiplique ese resultado *2, es decir, 2 * 2 = 4\n",
    "- Resultado final expr4= 4"
   ]
  },
  {
   "cell_type": "code",
   "execution_count": 3,
   "metadata": {},
   "outputs": [
    {
     "name": "stdout",
     "output_type": "stream",
     "text": [
      "4\n"
     ]
    }
   ],
   "source": [
    "expr4 = 17 % 5 * 2\n",
    "print(expr4)"
   ]
  },
  {
   "cell_type": "markdown",
   "metadata": {},
   "source": [
    "### Expresion 5:\n",
    "expr5 = -2 ** 2\n",
    "- Calcule 2 ** 2 = 4\n",
    "- A ese resultado agregue el simbolo - = -4\n",
    "- Resultado final expr5= -4"
   ]
  },
  {
   "cell_type": "code",
   "execution_count": 4,
   "metadata": {},
   "outputs": [
    {
     "name": "stdout",
     "output_type": "stream",
     "text": [
      "-4\n"
     ]
    }
   ],
   "source": [
    "expr5= -2 ** 2\n",
    "print(expr5)"
   ]
  },
  {
   "cell_type": "markdown",
   "metadata": {},
   "source": [
    "### Expresion 6:\n",
    "expr6 = 3 + 4 * 2 ** 2 // 3\n",
    "- Primero se eleva 2 ** 2 = 4\n",
    "- Multiplique 4 * 4 = 16\n",
    "- Divida 16 // 3 = 5\n",
    "- Sume 3 + 5 = 8\n",
    "- Resultado final expr6= 8"
   ]
  },
  {
   "cell_type": "code",
   "execution_count": 5,
   "metadata": {},
   "outputs": [
    {
     "name": "stdout",
     "output_type": "stream",
     "text": [
      "8\n"
     ]
    }
   ],
   "source": [
    "expr6 = 3 + 4 * 2 ** 2 // 3\n",
    "print(expr6)"
   ]
  },
  {
   "cell_type": "markdown",
   "metadata": {},
   "source": [
    "### Expresion 7:\n",
    "expr7 = 3 < 4 < 5\n",
    "- Compare si 4 es mayor a 3, es true\n",
    "- Compare si 5 es mayor a 4, es true\n",
    "- Resultado final expr7= true"
   ]
  },
  {
   "cell_type": "code",
   "execution_count": 6,
   "metadata": {},
   "outputs": [
    {
     "name": "stdout",
     "output_type": "stream",
     "text": [
      "True\n"
     ]
    }
   ],
   "source": [
    "expr7= 3 < 4 < 5\n",
    "print(expr7)"
   ]
  },
  {
   "cell_type": "markdown",
   "metadata": {},
   "source": [
    "### Expresion 8:\n",
    "expr8 = (3 > 2) and (5 < 10) or false\n",
    "- Compare (3 > 2) = true\n",
    "- and True and True = true\n",
    "- or True or False = true\n",
    "- Resultado final expr8= true"
   ]
  },
  {
   "cell_type": "code",
   "execution_count": 7,
   "metadata": {},
   "outputs": [
    {
     "name": "stdout",
     "output_type": "stream",
     "text": [
      "True\n"
     ]
    }
   ],
   "source": [
    "expr8 = (3 > 2) and (5 < 10) or false\n",
    "print(expr8)"
   ]
  },
  {
   "cell_type": "markdown",
   "metadata": {},
   "source": [
    "### Expresion 9:\n",
    "expr9 = 5 & 3 + 1\n",
    "- Sume 3 + 1 = 4\n",
    "- 5 & 4 = 0101 & 0100\n",
    "- Resultado final expr9= 4"
   ]
  },
  {
   "cell_type": "code",
   "execution_count": 8,
   "metadata": {},
   "outputs": [
    {
     "name": "stdout",
     "output_type": "stream",
     "text": [
      "4\n"
     ]
    }
   ],
   "source": [
    "expr9 = 5 & 3 + 1\n",
    "print(expr9)"
   ]
  },
  {
   "cell_type": "markdown",
   "metadata": {},
   "source": [
    "### Expresion 10:\n",
    "expr10 = (2 + 3) * 4 ** 2 // (5 % 3) and not False\n",
    "- Se hace la operación dentro del paréntesis= 2 + 3 = 5\n",
    "- La expresión se convierte en= 5 * 4 ** 2 // (5 % 3)\n",
    "- Se hacen las potencias= 4 ** 2 = 16 y la expresión se convierte en= 5 * 16 // (5 % 3)\n",
    "- Se hace= 5 % 3 = 2 y se convierte en= 5 * 16 // 2\n",
    "- Se hace la multiplicación= 5 * 16 = 80 y se convierte en= 80 // 2, que da como resultado= 40\n",
    "\n",
    "- El valor de expr10 es 40, que es un número distinto de cero. En Python, cualquier número distinto de cero es considerado True en un contexto booleano. Por lo tanto, expr10 = 40, y si se usa en una expresión booleana, como if expr10:, el resultado será True."
   ]
  },
  {
   "cell_type": "code",
   "execution_count": 9,
   "metadata": {},
   "outputs": [
    {
     "name": "stdout",
     "output_type": "stream",
     "text": [
      "True\n"
     ]
    }
   ],
   "source": [
    "expr10 = (2 + 3) * 4 ** 2 // (5 % 3) and not False\n",
    "print(expr10)"
   ]
  },
  {
   "cell_type": "markdown",
   "metadata": {},
   "source": [
    "### Expresion 11:\n",
    "expr11 =  ((65 & 66) > 70 ) and not (65 ^ 66) == 0\n",
    "- Se hace a binario 65 = 01000001 66 = 01000010 65 & 66 = 01000000 = 64 \n",
    "- 67 > 70 = False\n",
    "- XOR 65 ^ 66 = 3 3 == 0 False not false = True\n",
    "- False and True = false\n",
    "- Resultado final de expr11= false"
   ]
  },
  {
   "cell_type": "code",
   "execution_count": 11,
   "metadata": {},
   "outputs": [
    {
     "name": "stdout",
     "output_type": "stream",
     "text": [
      "False\n"
     ]
    }
   ],
   "source": [
    "expr11 =  ((65 & 66) > 70 ) and not (65 ^ 66) == 0\n",
    "print(expr11)"
   ]
  }
 ],
 "metadata": {
  "kernelspec": {
   "display_name": "Python 3",
   "language": "python",
   "name": "python3"
  },
  "language_info": {
   "codemirror_mode": {
    "name": "ipython",
    "version": 3
   },
   "file_extension": ".py",
   "mimetype": "text/x-python",
   "name": "python",
   "nbconvert_exporter": "python",
   "pygments_lexer": "ipython3",
   "version": "3.11.4"
  }
 },
 "nbformat": 4,
 "nbformat_minor": 2
}
